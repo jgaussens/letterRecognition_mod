{
 "cells": [
  {
   "cell_type": "markdown",
   "metadata": {},
   "source": [
    "## Data Information:\n",
    "The objective is to identify each of a large number of black-and-white rectangular pixel displays as one of the 26 capital letters in the English alphabet. The character images were based on 20 different fonts and each letter within these 20 fonts was randomly distorted to produce a file of 20,000 unique stimuli. Each stimulus was converted into 16 primitive numerical attributes (statistical moments and edge counts) which were then scaled to fit into a range of integer values from 0 through 15. We typically train on the first 16000 items and then use the resulting model to predict the letter category for the remaining 4000."
   ]
  },
  {
   "cell_type": "code",
   "execution_count": 2,
   "metadata": {},
   "outputs": [],
   "source": [
    "import numpy as np\n",
    "import pandas as pd\n",
    "import matplotlib.pyplot as plt\n",
    "import seaborn as sns\n",
    "\n",
    "from sklearn.ensemble import RandomForestClassifier\n",
    "from sklearn.datasets import make_classification\n",
    "from sklearn.model_selection import train_test_split\n",
    "from sklearn.metrics import auc, accuracy_score, confusion_matrix, mean_squared_error\n",
    "from sklearn import metrics\n"
   ]
  },
  {
   "cell_type": "code",
   "execution_count": 3,
   "metadata": {},
   "outputs": [],
   "source": [
    "header = [\"letter\", \"rec_1\", \"rec_2\", \"rec_3\", \"rec_4\", \"rec_5\", \"rec_6\", \"rec_7\", \"rec_8\", \"rec_9\", \"rec_10\", \"rec_11\", \"rec_12\", \"rec_13\", \"rec_14\", \"rec_15\", \"rec_16\"]\n",
    "df = pd.read_csv(\"./Data/letter-recognition.data\", names = header)"
   ]
  },
  {
   "cell_type": "code",
   "execution_count": 4,
   "metadata": {},
   "outputs": [
    {
     "name": "stdout",
     "output_type": "stream",
     "text": [
      "(20000, 17)\n"
     ]
    },
    {
     "data": {
      "text/plain": [
       "letter    object\n",
       "rec_1      int64\n",
       "rec_2      int64\n",
       "rec_3      int64\n",
       "rec_4      int64\n",
       "rec_5      int64\n",
       "rec_6      int64\n",
       "rec_7      int64\n",
       "rec_8      int64\n",
       "rec_9      int64\n",
       "rec_10     int64\n",
       "rec_11     int64\n",
       "rec_12     int64\n",
       "rec_13     int64\n",
       "rec_14     int64\n",
       "rec_15     int64\n",
       "rec_16     int64\n",
       "dtype: object"
      ]
     },
     "execution_count": 4,
     "metadata": {},
     "output_type": "execute_result"
    }
   ],
   "source": [
    "print(df.shape)\n",
    "df.dtypes"
   ]
  },
  {
   "cell_type": "markdown",
   "metadata": {},
   "source": [
    "# Prep"
   ]
  },
  {
   "cell_type": "code",
   "execution_count": 5,
   "metadata": {},
   "outputs": [
    {
     "name": "stdout",
     "output_type": "stream",
     "text": [
      "<class 'pandas.core.frame.DataFrame'>\n",
      "RangeIndex: 20000 entries, 0 to 19999\n",
      "Data columns (total 17 columns):\n",
      "letter    20000 non-null object\n",
      "rec_1     20000 non-null int64\n",
      "rec_2     20000 non-null int64\n",
      "rec_3     20000 non-null int64\n",
      "rec_4     20000 non-null int64\n",
      "rec_5     20000 non-null int64\n",
      "rec_6     20000 non-null int64\n",
      "rec_7     20000 non-null int64\n",
      "rec_8     20000 non-null int64\n",
      "rec_9     20000 non-null int64\n",
      "rec_10    20000 non-null int64\n",
      "rec_11    20000 non-null int64\n",
      "rec_12    20000 non-null int64\n",
      "rec_13    20000 non-null int64\n",
      "rec_14    20000 non-null int64\n",
      "rec_15    20000 non-null int64\n",
      "rec_16    20000 non-null int64\n",
      "dtypes: int64(16), object(1)\n",
      "memory usage: 2.6+ MB\n"
     ]
    }
   ],
   "source": [
    "df.info()"
   ]
  },
  {
   "cell_type": "code",
   "execution_count": 6,
   "metadata": {},
   "outputs": [
    {
     "data": {
      "text/plain": [
       "letter    False\n",
       "rec_1     False\n",
       "rec_2     False\n",
       "rec_3     False\n",
       "rec_4     False\n",
       "rec_5     False\n",
       "rec_6     False\n",
       "rec_7     False\n",
       "rec_8     False\n",
       "rec_9     False\n",
       "rec_10    False\n",
       "rec_11    False\n",
       "rec_12    False\n",
       "rec_13    False\n",
       "rec_14    False\n",
       "rec_15    False\n",
       "rec_16    False\n",
       "dtype: bool"
      ]
     },
     "execution_count": 6,
     "metadata": {},
     "output_type": "execute_result"
    }
   ],
   "source": [
    "pd.isna(df).any()"
   ]
  },
  {
   "cell_type": "code",
   "execution_count": 7,
   "metadata": {},
   "outputs": [
    {
     "data": {
      "text/plain": [
       "letter    False\n",
       "rec_1     False\n",
       "rec_2     False\n",
       "rec_3     False\n",
       "rec_4     False\n",
       "rec_5     False\n",
       "rec_6     False\n",
       "rec_7     False\n",
       "rec_8     False\n",
       "rec_9     False\n",
       "rec_10    False\n",
       "rec_11    False\n",
       "rec_12    False\n",
       "rec_13    False\n",
       "rec_14    False\n",
       "rec_15    False\n",
       "rec_16    False\n",
       "dtype: bool"
      ]
     },
     "execution_count": 7,
     "metadata": {},
     "output_type": "execute_result"
    }
   ],
   "source": [
    "pd.isnull(df).any()"
   ]
  },
  {
   "cell_type": "raw",
   "metadata": {},
   "source": [
    "Notre jeu de données ne contient aucune données NULL ou ne contient aucun NA. Toutes les colonnes sont des integer sauf la première colonne qui est stockée en object et contient la lettre identifiée en majuscule. Les variables de chaînes de caractère pouvant avoir des tailles variables sont automatiquement enregistrées en type object. Nous avons choisi de ne pas modifier ce type d'enregistrement car il nous permet toujours de travailler avec les données comme étant des chaînes de caractère."
   ]
  },
  {
   "cell_type": "markdown",
   "metadata": {},
   "source": [
    "# Modèle"
   ]
  },
  {
   "cell_type": "code",
   "execution_count": 8,
   "metadata": {},
   "outputs": [],
   "source": [
    "col_y = \"letter\""
   ]
  },
  {
   "cell_type": "code",
   "execution_count": 9,
   "metadata": {},
   "outputs": [],
   "source": [
    "X = df.drop(col_y, axis=\"columns\")\n",
    "Y = df[col_y]"
   ]
  },
  {
   "cell_type": "code",
   "execution_count": 10,
   "metadata": {},
   "outputs": [
    {
     "data": {
      "text/plain": [
       "((16490, 16), (510, 16), (16490,), (510,), (3000, 16), (3000,))"
      ]
     },
     "execution_count": 10,
     "metadata": {},
     "output_type": "execute_result"
    }
   ],
   "source": [
    "X_train, X_test      , y_train, y_test       = train_test_split(X      ,Y      , test_size=0.15)\n",
    "X_train, X_validation, y_train, y_validation = train_test_split(X_train,y_train, test_size=0.03)\n",
    "X_train.shape, X_validation.shape, y_train.shape, y_validation.shape, X_test.shape, y_test.shape"
   ]
  },
  {
   "cell_type": "code",
   "execution_count": 11,
   "metadata": {},
   "outputs": [
    {
     "name": "stdout",
     "output_type": "stream",
     "text": [
      "0.9543333333333334 / 0.9523333333333334 / 0.9563333333333334 / 0.9556666666666667 / 0.9506666666666667 / 0.9526666666666667 / 0.9536666666666667 / 0.953 / 0.9533333333333334 / 0.9536666666666667 / 0.953 / 0.9536666666666667 / 0.9523333333333334 / 0.955 / 0.956 / 0.954 / 0.9553333333333334 / 0.955 / 0.9543333333333334 / 0.951 / 0.9543333333333334 / 0.9583333333333334 / 0.9566666666666667 / 0.9536666666666667 / 0.9526666666666667 / 0.9573333333333334 / 0.9526666666666667 / 0.9553333333333334 / 0.9526666666666667 / 0.957 / 0.956 / 0.9553333333333334 / 0.953 / 0.956 / 0.9583333333333334 / 0.9526666666666667 / 0.956 / 0.957 / 0.952 / 0.955 / 0.9576666666666667 / 0.956 / 0.9616666666666667 / 0.9546666666666667 / 0.9553333333333334 / 0.9566666666666667 / 0.9526666666666667 / 0.9546666666666667 / 0.9533333333333334 / 0.9546666666666667 / "
     ]
    }
   ],
   "source": [
    "## Premier modèle simple (Random Forest)\n",
    "\n",
    "r = []\n",
    "for i in range(50):\n",
    "    hyperparametres = {\"n_estimators\" : 20 , \n",
    "                       \"n_jobs\"       : -1 }\n",
    "    algo = RandomForestClassifier(**hyperparametres)\n",
    "    modele = algo.fit(X_train.select_dtypes(exclude=[\"object\"]), y_train)\n",
    "    score = modele.score(X_test, y_test)\n",
    "    r.append(score)\n",
    "    print(score, end=\" / \")"
   ]
  },
  {
   "cell_type": "code",
   "execution_count": 12,
   "metadata": {},
   "outputs": [
    {
     "data": {
      "text/plain": [
       "<matplotlib.axes._subplots.AxesSubplot at 0x1cc017fc2b0>"
      ]
     },
     "execution_count": 12,
     "metadata": {},
     "output_type": "execute_result"
    },
    {
     "data": {
      "image/png": "[encoded data removed]",
      "text/plain": [
       "<Figure size 432x288 with 1 Axes>"
      ]
     },
     "metadata": {},
     "output_type": "display_data"
    }
   ],
   "source": [
    "#Plot results\n",
    "%matplotlib inline\n",
    "pd.DataFrame(r).plot(ylim=[0,1])"
   ]
  },
  {
   "cell_type": "code",
   "execution_count": 13,
   "metadata": {},
   "outputs": [
    {
     "data": {
      "text/plain": [
       "[('rec_1', 0.022061604895911163),\n",
       " ('rec_2', 0.024089699116040666),\n",
       " ('rec_3', 0.02187542120527685),\n",
       " ('rec_4', 0.021150179746261055),\n",
       " ('rec_5', 0.026660331179899355),\n",
       " ('rec_6', 0.05083867977751198),\n",
       " ('rec_7', 0.07186588632893204),\n",
       " ('rec_8', 0.07725340301254607),\n",
       " ('rec_9', 0.09743564564098262),\n",
       " ('rec_10', 0.07275185173132002),\n",
       " ('rec_11', 0.08546805000934013),\n",
       " ('rec_12', 0.08369236397239622),\n",
       " ('rec_13', 0.11167940012347881),\n",
       " ('rec_14', 0.07296158695387815),\n",
       " ('rec_15', 0.10627765944171456),\n",
       " ('rec_16', 0.05393823686451025)]"
      ]
     },
     "execution_count": 13,
     "metadata": {},
     "output_type": "execute_result"
    }
   ],
   "source": [
    "#Variable Importance\n",
    "list(zip(X_train.columns, modele.feature_importances_))"
   ]
  },
  {
   "cell_type": "code",
   "execution_count": 14,
   "metadata": {
    "scrolled": false
   },
   "outputs": [
    {
     "data": {
      "text/plain": [
       "<matplotlib.axes._subplots.AxesSubplot at 0x1cc01457438>"
      ]
     },
     "execution_count": 14,
     "metadata": {},
     "output_type": "execute_result"
    },
    {
     "data": {
      "image/png": "[encoded data removed]",
      "text/plain": [
       "<Figure size 1440x720 with 2 Axes>"
      ]
     },
     "metadata": {},
     "output_type": "display_data"
    }
   ],
   "source": [
    "#Plot Confusion Matrix\n",
    "\n",
    "y_pred = modele.predict(X_test) #Prédiction\n",
    "\n",
    "array = confusion_matrix(y_test, y_pred) #Comparaison\n",
    "\n",
    "df_cm = pd.DataFrame(array, range(26),\n",
    "                  range(26))\n",
    "plt.figure(figsize = (20,10))\n",
    "sns.set(font_scale=1)#for label size\n",
    "sns.heatmap(df_cm, annot=True,annot_kws={\"size\": 10})# font size"
   ]
  },
  {
   "cell_type": "code",
   "execution_count": 15,
   "metadata": {},
   "outputs": [
    {
     "data": {
      "text/plain": [
       "(3000,)"
      ]
     },
     "execution_count": 15,
     "metadata": {},
     "output_type": "execute_result"
    }
   ],
   "source": [
    "y_test.shape"
   ]
  },
  {
   "cell_type": "code",
   "execution_count": 16,
   "metadata": {},
   "outputs": [],
   "source": [
    "#ROC\n",
    "#\n",
    "#y = np.array([1, 1, 2, 2])\n",
    "#pred = np.array([0.1, 0.4, 0.35, 0.8])\n",
    "#\n",
    "#y_test = np.array(y_test)\n",
    "#fpr, tpr, thresholds = metrics.roc_curve(y_test, y_pred, pos_label=2)\n",
    "#metrics.auc(fpr, tpr)"
   ]
  },
  {
   "cell_type": "markdown",
   "metadata": {},
   "source": [
    "## Grid Search"
   ]
  },
  {
   "cell_type": "code",
   "execution_count": 18,
   "metadata": {},
   "outputs": [],
   "source": [
    "from sklearn.model_selection import GridSearchCV, StratifiedKFold\n",
    "from sklearn.metrics import make_scorer, precision_score, recall_score, accuracy_score"
   ]
  },
  {
   "cell_type": "code",
   "execution_count": 53,
   "metadata": {},
   "outputs": [],
   "source": [
    "r ={} \n",
    "hyperparametres = {\"n_estimators\" : 20 , \n",
    "                       \"n_jobs\"       : -1 }\n",
    "clf = RandomForestClassifier(**hyperparametres)\n",
    "\n",
    "param_grid = {  'min_samples_split' : [5, 10, 15],\n",
    "                'n_estimators': [20, 40, 60],\n",
    "                'max_depth' :range(10)[1:],\n",
    "                'max_features':[2, 8, 14]\n",
    "}\n",
    "\n",
    "#scorers = { 'precision_score': make_scorer(precision_score) ,\n",
    "#            'recall_score'   : make_scorer(recall_score)    ,\n",
    "#            'accuracy_score' : make_scorer(accuracy_score)  }\n",
    "scorers = 'precision'\n",
    "\n",
    "skf = StratifiedKFold(n_splits=3)\n",
    "\n",
    "grid_search= GridSearchCV(clf,\n",
    "                          param_grid,\n",
    "                          scoring='%s_micro' % scorers,\n",
    "                          cv=skf,\n",
    "                          return_train_score=True,\n",
    "                          n_jobs=11)"
   ]
  },
  {
   "cell_type": "code",
   "execution_count": 54,
   "metadata": {},
   "outputs": [
    {
     "data": {
      "text/plain": [
       "GridSearchCV(cv=StratifiedKFold(n_splits=3, random_state=None, shuffle=False),\n",
       "       error_score='raise',\n",
       "       estimator=RandomForestClassifier(bootstrap=True, class_weight=None, criterion='gini',\n",
       "            max_depth=None, max_features='auto', max_leaf_nodes=None,\n",
       "            min_impurity_decrease=0.0, min_impurity_split=None,\n",
       "            min_samples_leaf=1, min_samples_split=2,\n",
       "            min_weight_fraction_leaf=0.0, n_estimators=20, n_jobs=-1,\n",
       "            oob_score=False, random_state=None, verbose=0,\n",
       "            warm_start=False),\n",
       "       fit_params=None, iid=True, n_jobs=11,\n",
       "       param_grid={'min_samples_split': [5, 10, 15], 'n_estimators': [20, 40, 60], 'max_depth': range(1, 10), 'max_features': [2, 8, 14]},\n",
       "       pre_dispatch='2*n_jobs', refit=True, return_train_score=True,\n",
       "       scoring='precision_micro', verbose=0)"
      ]
     },
     "execution_count": 54,
     "metadata": {},
     "output_type": "execute_result"
    }
   ],
   "source": [
    "grid_search.fit(X_train.values,y_train.values)"
   ]
  },
  {
   "cell_type": "code",
   "execution_count": 56,
   "metadata": {},
   "outputs": [
    {
     "name": "stdout",
     "output_type": "stream",
     "text": [
      "{'max_depth': 9, 'max_features': 2, 'min_samples_split': 5, 'n_estimators': 40}\n",
      "0.8187992722862341\n"
     ]
    }
   ],
   "source": [
    "y_pred = grid_search.predict(X_test.values)\n",
    "print(grid_search.best_params_)\n",
    "results = pd.DataFrame()\n",
    "r[str(param_grid)] =  grid_search.best_score_\n",
    "print(grid_search.best_score_)"
   ]
  },
  {
   "cell_type": "code",
   "execution_count": 57,
   "metadata": {},
   "outputs": [
    {
     "data": {
      "text/plain": [
       "{\"{'min_samples_split': [5, 10, 15], 'n_estimators': [20, 40, 60], 'max_depth': range(1, 10), 'max_features': [2, 8, 14]}\": 0.8187992722862341}"
      ]
     },
     "execution_count": 57,
     "metadata": {},
     "output_type": "execute_result"
    }
   ],
   "source": [
    "r[str(param_grid)] =  grid_search.best_score_\n",
    "r"
   ]
  },
  {
   "cell_type": "code",
   "execution_count": null,
   "metadata": {},
   "outputs": [],
   "source": []
  }
 ],
 "metadata": {
  "kernelspec": {
   "display_name": "Python 3",
   "language": "python",
   "name": "python3"
  },
  "language_info": {
   "codemirror_mode": {
    "name": "ipython",
    "version": 3
   },
   "file_extension": ".py",
   "mimetype": "text/x-python",
   "name": "python",
   "nbconvert_exporter": "python",
   "pygments_lexer": "ipython3",
   "version": "3.6.5"
  }
 },
 "nbformat": 4,
 "nbformat_minor": 2
}

{
 "cells": [
  {
   "cell_type": "markdown",
   "metadata": {},
   "source": [
    "## Data Information:\n",
    "The objective is to identify each of a large number of black-and-white rectangular pixel displays as one of the 26 capital letters in the English alphabet. The character images were based on 20 different fonts and each letter within these 20 fonts was randomly distorted to produce a file of 20,000 unique stimuli. Each stimulus was converted into 16 primitive numerical attributes (statistical moments and edge counts) which were then scaled to fit into a range of integer values from 0 through 15. We typically train on the first 16000 items and then use the resulting model to predict the letter category for the remaining 4000."
   ]
  },
  {
   "cell_type": "code",
   "execution_count": 54,
   "metadata": {},
   "outputs": [],
   "source": [
    "import numpy as np\n",
    "import pandas as pd\n",
    "import matplotlib.pyplot as plt\n",
    "import seaborn as sns\n",
    "\n",
    "from sklearn.ensemble import RandomForestClassifier\n",
    "from sklearn.datasets import make_classification\n",
    "from sklearn.model_selection import train_test_split\n",
    "from sklearn.metrics import auc, accuracy_score, confusion_matrix, mean_squared_error\n",
    "from sklearn import metrics\n"
   ]
  },
  {
   "cell_type": "code",
   "execution_count": 3,
   "metadata": {},
   "outputs": [],
   "source": [
    "header = [\"letter\", \"rec_1\", \"rec_2\", \"rec_3\", \"rec_4\", \"rec_5\", \"rec_6\", \"rec_7\", \"rec_8\", \"rec_9\", \"rec_10\", \"rec_11\", \"rec_12\", \"rec_13\", \"rec_14\", \"rec_15\", \"rec_16\"]\n",
    "df = pd.read_csv(\"./Data/letter-recognition.data\", names = header)"
   ]
  },
  {
   "cell_type": "code",
   "execution_count": 9,
   "metadata": {},
   "outputs": [
    {
     "name": "stdout",
     "output_type": "stream",
     "text": [
      "(20000, 17)\n"
     ]
    },
    {
     "data": {
      "text/plain": [
       "letter    object\n",
       "rec_1      int64\n",
       "rec_2      int64\n",
       "rec_3      int64\n",
       "rec_4      int64\n",
       "rec_5      int64\n",
       "rec_6      int64\n",
       "rec_7      int64\n",
       "rec_8      int64\n",
       "rec_9      int64\n",
       "rec_10     int64\n",
       "rec_11     int64\n",
       "rec_12     int64\n",
       "rec_13     int64\n",
       "rec_14     int64\n",
       "rec_15     int64\n",
       "rec_16     int64\n",
       "dtype: object"
      ]
     },
     "execution_count": 9,
     "metadata": {},
     "output_type": "execute_result"
    }
   ],
   "source": [
    "print(df.shape)\n",
    "df.dtypes"
   ]
  },
  {
   "cell_type": "code",
   "execution_count": null,
   "metadata": {},
   "outputs": [],
   "source": []
  },
  {
   "cell_type": "markdown",
   "metadata": {},
   "source": [
    "## Prep"
   ]
  },
  {
   "cell_type": "code",
   "execution_count": 87,
   "metadata": {},
   "outputs": [],
   "source": [
    "col_y = \"letter\""
   ]
  },
  {
   "cell_type": "code",
   "execution_count": 88,
   "metadata": {},
   "outputs": [],
   "source": [
    "X = df.drop(col_y, axis=\"columns\")\n",
    "Y = df[col_y]"
   ]
  },
  {
   "cell_type": "code",
   "execution_count": 89,
   "metadata": {},
   "outputs": [
    {
     "data": {
      "text/plain": [
       "((16490, 16), (510, 16), (16490,), (510,), (3000, 16), (3000,))"
      ]
     },
     "execution_count": 89,
     "metadata": {},
     "output_type": "execute_result"
    }
   ],
   "source": [
    "X_train, X_test      , y_train, y_test       = train_test_split(X      ,Y      , test_size=0.15)\n",
    "X_train, X_validation, y_train, y_validation = train_test_split(X_train,y_train, test_size=0.03)\n",
    "X_train.shape, X_validation.shape, y_train.shape, y_validation.shape, X_test.shape, y_test.shape"
   ]
  },
  {
   "cell_type": "code",
   "execution_count": null,
   "metadata": {},
   "outputs": [],
   "source": []
  },
  {
   "cell_type": "code",
   "execution_count": null,
   "metadata": {},
   "outputs": [],
   "source": []
  },
  {
   "cell_type": "code",
   "execution_count": 91,
   "metadata": {},
   "outputs": [
    {
     "name": "stdout",
     "output_type": "stream",
     "text": [
      "0.956 / 0.9556666666666667 / 0.9606666666666667 / 0.956 / 0.9586666666666667 / 0.9513333333333334 / 0.9573333333333334 / 0.9513333333333334 / 0.9603333333333334 / 0.9553333333333334 / 0.9573333333333334 / 0.953 / 0.9583333333333334 / 0.9553333333333334 / 0.957 / 0.9546666666666667 / 0.952 / 0.9566666666666667 / 0.9523333333333334 / 0.9553333333333334 / 0.9573333333333334 / 0.95 / 0.956 / 0.9513333333333334 / 0.9523333333333334 / 0.953 / 0.9566666666666667 / 0.955 / 0.955 / 0.958 / 0.9546666666666667 / 0.953 / 0.955 / 0.9503333333333334 / 0.9543333333333334 / 0.9526666666666667 / 0.9536666666666667 / 0.9573333333333334 / 0.951 / 0.9523333333333334 / 0.953 / 0.9523333333333334 / 0.9496666666666667 / 0.955 / 0.9553333333333334 / 0.956 / 0.955 / 0.9546666666666667 / 0.9596666666666667 / 0.955 / "
     ]
    }
   ],
   "source": [
    "## Premier modèle simple (Random Forest)\n",
    "\n",
    "r = []\n",
    "for i in range(50):\n",
    "    hyperparametres = {\"n_estimators\" : 20 , \n",
    "                       \"n_jobs\"       : -1 }\n",
    "    algo = RandomForestClassifier(**hyperparametres)\n",
    "    modele = algo.fit(X_train.select_dtypes(exclude=[\"object\"]), y_train)\n",
    "    score = modele.score(X_test, y_test)\n",
    "    r.append(score)\n",
    "    print(score, end=\" / \")"
   ]
  },
  {
   "cell_type": "code",
   "execution_count": 92,
   "metadata": {},
   "outputs": [
    {
     "data": {
      "text/plain": [
       "<matplotlib.axes._subplots.AxesSubplot at 0x1a1e921c50>"
      ]
     },
     "execution_count": 92,
     "metadata": {},
     "output_type": "execute_result"
    },
    {
     "data": {
      "image/png": "[encoded data removed]",
      "text/plain": [
       "<Figure size 432x288 with 1 Axes>"
      ]
     },
     "metadata": {},
     "output_type": "display_data"
    }
   ],
   "source": [
    "#Plot results\n",
    "%matplotlib inline\n",
    "pd.DataFrame(r).plot(ylim=[0,1])"
   ]
  },
  {
   "cell_type": "code",
   "execution_count": 93,
   "metadata": {},
   "outputs": [
    {
     "data": {
      "text/plain": [
       "[('rec_1', 0.021317868330206068),\n",
       " ('rec_2', 0.024565130199856903),\n",
       " ('rec_3', 0.021902834532208888),\n",
       " ('rec_4', 0.020074453721166462),\n",
       " ('rec_5', 0.025087747773579028),\n",
       " ('rec_6', 0.054542374754675105),\n",
       " ('rec_7', 0.0714985554191115),\n",
       " ('rec_8', 0.0839441227619364),\n",
       " ('rec_9', 0.09579024328637703),\n",
       " ('rec_10', 0.06863580707761373),\n",
       " ('rec_11', 0.08840071532508717),\n",
       " ('rec_12', 0.08378664887297542),\n",
       " ('rec_13', 0.11529394430291554),\n",
       " ('rec_14', 0.07109443101927991),\n",
       " ('rec_15', 0.10003730031605587),\n",
       " ('rec_16', 0.05402782230695493)]"
      ]
     },
     "execution_count": 93,
     "metadata": {},
     "output_type": "execute_result"
    }
   ],
   "source": [
    "#Variable Importance\n",
    "list(zip(X_train.columns, modele.feature_importances_))"
   ]
  },
  {
   "cell_type": "code",
   "execution_count": 97,
   "metadata": {
    "scrolled": false
   },
   "outputs": [
    {
     "data": {
      "text/plain": [
       "<matplotlib.axes._subplots.AxesSubplot at 0x1a17dfa748>"
      ]
     },
     "execution_count": 97,
     "metadata": {},
     "output_type": "execute_result"
    },
    {
     "data": {
      "image/png": "[encoded data removed]",
      "text/plain": [
       "<Figure size 1440x720 with 2 Axes>"
      ]
     },
     "metadata": {},
     "output_type": "display_data"
    }
   ],
   "source": [
    "#Plot Confusion Matrix\n",
    "\n",
    "y_pred = modele.predict(X_test) #Prédiction\n",
    "\n",
    "array = confusion_matrix(y_test, y_pred) #Comparaison\n",
    "\n",
    "df_cm = pd.DataFrame(array, range(26),\n",
    "                  range(26))\n",
    "plt.figure(figsize = (20,10))\n",
    "sns.set(font_scale=1)#for label size\n",
    "sns.heatmap(df_cm, annot=True,annot_kws={\"size\": 10})# font size"
   ]
  },
  {
   "cell_type": "code",
   "execution_count": null,
   "metadata": {},
   "outputs": [],
   "source": []
  },
  {
   "cell_type": "code",
   "execution_count": 98,
   "metadata": {},
   "outputs": [
    {
     "data": {
      "text/plain": [
       "(3000,)"
      ]
     },
     "execution_count": 98,
     "metadata": {},
     "output_type": "execute_result"
    }
   ],
   "source": [
    "y_test.shape"
   ]
  },
  {
   "cell_type": "code",
   "execution_count": 84,
   "metadata": {},
   "outputs": [],
   "source": [
    "#ROC\n",
    "#\n",
    "#y = np.array([1, 1, 2, 2])\n",
    "#pred = np.array([0.1, 0.4, 0.35, 0.8])\n",
    "#\n",
    "#y_test = np.array(y_test)\n",
    "#fpr, tpr, thresholds = metrics.roc_curve(y_test, y_pred, pos_label=2)\n",
    "#metrics.auc(fpr, tpr)"
   ]
  },
  {
   "cell_type": "code",
   "execution_count": 63,
   "metadata": {},
   "outputs": [
    {
     "data": {
      "text/plain": [
       "array(['O', 'P', 'I', ..., 'I', 'S', 'C'], dtype=object)"
      ]
     },
     "execution_count": 63,
     "metadata": {},
     "output_type": "execute_result"
    }
   ],
   "source": [
    "y_test"
   ]
  },
  {
   "cell_type": "code",
   "execution_count": 64,
   "metadata": {},
   "outputs": [
    {
     "data": {
      "text/plain": [
       "array(['O', 'P', 'I', ..., 'I', 'S', 'C'], dtype=object)"
      ]
     },
     "execution_count": 64,
     "metadata": {},
     "output_type": "execute_result"
    }
   ],
   "source": [
    "y_pred"
   ]
  },
  {
   "cell_type": "code",
   "execution_count": null,
   "metadata": {},
   "outputs": [],
   "source": []
  },
  {
   "cell_type": "markdown",
   "metadata": {},
   "source": [
    "## Grid Search"
   ]
  },
  {
   "cell_type": "code",
   "execution_count": null,
   "metadata": {},
   "outputs": [],
   "source": []
  }
 ],
 "metadata": {
  "kernelspec": {
   "display_name": "Python 3",
   "language": "python",
   "name": "python3"
  },
  "language_info": {
   "codemirror_mode": {
    "name": "ipython",
    "version": 3
   },
   "file_extension": ".py",
   "mimetype": "text/x-python",
   "name": "python",
   "nbconvert_exporter": "python",
   "pygments_lexer": "ipython3",
   "version": "3.6.5"
  }
 },
 "nbformat": 4,
 "nbformat_minor": 2
}
